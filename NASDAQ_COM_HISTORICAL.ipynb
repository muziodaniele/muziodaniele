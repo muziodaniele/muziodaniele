{
  "nbformat": 4,
  "nbformat_minor": 0,
  "metadata": {
    "colab": {
      "provenance": [],
      "authorship_tag": "ABX9TyNI08UczX5sFO3M5Epn/iSI",
      "include_colab_link": true
    },
    "kernelspec": {
      "name": "python3",
      "display_name": "Python 3"
    },
    "language_info": {
      "name": "python"
    }
  },
  "cells": [
    {
      "cell_type": "markdown",
      "metadata": {
        "id": "view-in-github",
        "colab_type": "text"
      },
      "source": [
        "<a href=\"https://colab.research.google.com/github/muziodaniele/muziodaniele/blob/main/NASDAQ_COM_HISTORICAL.ipynb\" target=\"_parent\"><img src=\"https://colab.research.google.com/assets/colab-badge.svg\" alt=\"Open In Colab\"/></a>"
      ]
    },
    {
      "cell_type": "code",
      "execution_count": null,
      "metadata": {
        "colab": {
          "base_uri": "https://localhost:8080/"
        },
        "id": "iPxNJf94zBLQ",
        "outputId": "0654922c-2e15-4b44-b363-b0ebe48c18d7"
      },
      "outputs": [
        {
          "output_type": "stream",
          "name": "stderr",
          "text": [
            "\r[*********************100%%**********************]  1 of 1 completed"
          ]
        },
        {
          "output_type": "stream",
          "name": "stdout",
          "text": [
            "                   Open         High          Low        Close    Adj Close  \\\n",
            "Date                                                                          \n",
            "2018-03-01  7274.750000  7307.850098  7117.660156  7180.560059  7180.560059   \n",
            "2018-03-02  7099.540039  7267.189941  7084.830078  7257.870117  7257.870117   \n",
            "2018-03-05  7222.890137  7350.069824  7205.310059  7330.709961  7330.709961   \n",
            "2018-03-06  7366.609863  7378.029785  7319.680176  7372.009766  7372.009766   \n",
            "2018-03-07  7311.740234  7403.790039  7311.740234  7396.649902  7396.649902   \n",
            "\n",
            "                Volume  \n",
            "Date                    \n",
            "2018-03-01  2499010000  \n",
            "2018-03-02  2291480000  \n",
            "2018-03-05  2076870000  \n",
            "2018-03-06  2132920000  \n",
            "2018-03-07  2198610000  \n"
          ]
        },
        {
          "output_type": "stream",
          "name": "stderr",
          "text": [
            "\n"
          ]
        }
      ],
      "source": [
        "import yfinance as yf\n",
        "nasdaq_data = yf.download('^IXIC', start='2018-03-01', end='2024-02-29')\n",
        "print(nasdaq_data.head())\n"
      ]
    },
    {
      "cell_type": "code",
      "source": [
        "import pandas as pd"
      ],
      "metadata": {
        "id": "AU5BdCyiBh1z"
      },
      "execution_count": null,
      "outputs": []
    },
    {
      "cell_type": "code",
      "source": [
        "print(nasdaq_data.tail(4))"
      ],
      "metadata": {
        "colab": {
          "base_uri": "https://localhost:8080/"
        },
        "id": "_x5W2O21Bj2Y",
        "outputId": "762eab62-11b8-44be-9ad2-51a315df3dfe"
      },
      "execution_count": null,
      "outputs": [
        {
          "output_type": "stream",
          "name": "stdout",
          "text": [
            "                    Open          High           Low         Close  \\\n",
            "Date                                                                 \n",
            "2024-02-23  16094.799805  16134.219727  15954.500000  15996.820312   \n",
            "2024-02-26  16014.450195  16054.900391  15973.900391  15976.250000   \n",
            "2024-02-27  16013.980469  16046.099609  15940.509766  16035.299805   \n",
            "2024-02-28  15969.139648  16003.559570  15924.719727  15947.740234   \n",
            "\n",
            "               Adj Close      Volume  \n",
            "Date                                  \n",
            "2024-02-23  15996.820312  5077910000  \n",
            "2024-02-26  15976.250000  5417630000  \n",
            "2024-02-27  16035.299805  5423020000  \n",
            "2024-02-28  15947.740234  5581690000  \n"
          ]
        }
      ]
    },
    {
      "cell_type": "code",
      "source": [
        "\n",
        "# Add a new column named 'Change'\n",
        "nasdaq_data['Change'] = nasdaq_data['Close'].diff() < 0\n",
        "\n",
        "# Convert True/False values to 1/0 (optional)\n",
        "nasdaq_data['Change'] = nasdaq_data['Change'].astype(int)\n",
        "\n",
        "# Print the DataFrame\n",
        "print(nasdaq_data.tail(4))"
      ],
      "metadata": {
        "colab": {
          "base_uri": "https://localhost:8080/"
        },
        "id": "3oWxjv10EFqo",
        "outputId": "887ec14e-eed6-4deb-fe4b-2f37126e65dc"
      },
      "execution_count": null,
      "outputs": [
        {
          "output_type": "stream",
          "name": "stdout",
          "text": [
            "                    Open          High           Low         Close  \\\n",
            "Date                                                                 \n",
            "2024-02-23  16094.799805  16134.219727  15954.500000  15996.820312   \n",
            "2024-02-26  16014.450195  16054.900391  15973.900391  15976.250000   \n",
            "2024-02-27  16013.980469  16046.099609  15940.509766  16035.299805   \n",
            "2024-02-28  15969.139648  16003.559570  15924.719727  15947.740234   \n",
            "\n",
            "               Adj Close      Volume  Change  \n",
            "Date                                          \n",
            "2024-02-23  15996.820312  5077910000       1  \n",
            "2024-02-26  15976.250000  5417630000       1  \n",
            "2024-02-27  16035.299805  5423020000       0  \n",
            "2024-02-28  15947.740234  5581690000       1  \n"
          ]
        }
      ]
    }
  ]
}